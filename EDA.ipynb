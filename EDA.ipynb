{
 "cells": [
  {
   "cell_type": "code",
   "execution_count": 1,
   "metadata": {},
   "outputs": [],
   "source": [
    "# Importo librerias necesarias para el analisis de datos\n",
    "import numpy as np\n",
    "import pandas as pd\n",
    "import matplotlib.pyplot as plt\n",
    "import seaborn as sns\n",
    "import plotly.express as px\n",
    "import warnings\n",
    "warnings.filterwarnings('ignore')"
   ]
  },
  {
   "cell_type": "code",
   "execution_count": 2,
   "metadata": {},
   "outputs": [],
   "source": [
    "# Formateo para que los float tengan 2 decimales\n",
    "pd.options.display.float_format='{:.2f}'.format"
   ]
  },
  {
   "cell_type": "code",
   "execution_count": 3,
   "metadata": {},
   "outputs": [
    {
     "data": {
      "text/html": [
       "<div>\n",
       "<style scoped>\n",
       "    .dataframe tbody tr th:only-of-type {\n",
       "        vertical-align: middle;\n",
       "    }\n",
       "\n",
       "    .dataframe tbody tr th {\n",
       "        vertical-align: top;\n",
       "    }\n",
       "\n",
       "    .dataframe thead th {\n",
       "        text-align: right;\n",
       "    }\n",
       "</style>\n",
       "<table border=\"1\" class=\"dataframe\">\n",
       "  <thead>\n",
       "    <tr style=\"text-align: right;\">\n",
       "      <th></th>\n",
       "      <th>Unnamed: 0</th>\n",
       "      <th>item</th>\n",
       "      <th>servesize</th>\n",
       "      <th>calories</th>\n",
       "      <th>protien</th>\n",
       "      <th>totalfat</th>\n",
       "      <th>satfat</th>\n",
       "      <th>transfat</th>\n",
       "      <th>cholestrol</th>\n",
       "      <th>carbs</th>\n",
       "      <th>sugar</th>\n",
       "      <th>addedsugar</th>\n",
       "      <th>sodium</th>\n",
       "      <th>menu</th>\n",
       "    </tr>\n",
       "  </thead>\n",
       "  <tbody>\n",
       "    <tr>\n",
       "      <th>0</th>\n",
       "      <td>0</td>\n",
       "      <td>McVeggie Burger</td>\n",
       "      <td>168</td>\n",
       "      <td>402</td>\n",
       "      <td>10.24</td>\n",
       "      <td>13.83</td>\n",
       "      <td>5.34</td>\n",
       "      <td>0.16</td>\n",
       "      <td>2.49</td>\n",
       "      <td>56.54</td>\n",
       "      <td>7.90</td>\n",
       "      <td>4.49</td>\n",
       "      <td>706.13</td>\n",
       "      <td>regular</td>\n",
       "    </tr>\n",
       "    <tr>\n",
       "      <th>1</th>\n",
       "      <td>1</td>\n",
       "      <td>McAloo Tikki Burger</td>\n",
       "      <td>146</td>\n",
       "      <td>339</td>\n",
       "      <td>8.50</td>\n",
       "      <td>11.31</td>\n",
       "      <td>4.27</td>\n",
       "      <td>0.20</td>\n",
       "      <td>1.47</td>\n",
       "      <td>5.27</td>\n",
       "      <td>7.05</td>\n",
       "      <td>4.07</td>\n",
       "      <td>545.34</td>\n",
       "      <td>regular</td>\n",
       "    </tr>\n",
       "    <tr>\n",
       "      <th>2</th>\n",
       "      <td>2</td>\n",
       "      <td>McSpicy Paneer Burger</td>\n",
       "      <td>199</td>\n",
       "      <td>652</td>\n",
       "      <td>20.29</td>\n",
       "      <td>39.45</td>\n",
       "      <td>17.12</td>\n",
       "      <td>0.18</td>\n",
       "      <td>21.85</td>\n",
       "      <td>52.33</td>\n",
       "      <td>8.35</td>\n",
       "      <td>5.27</td>\n",
       "      <td>1074.58</td>\n",
       "      <td>regular</td>\n",
       "    </tr>\n",
       "    <tr>\n",
       "      <th>3</th>\n",
       "      <td>3</td>\n",
       "      <td>Spicy Paneer Wrap</td>\n",
       "      <td>250</td>\n",
       "      <td>674</td>\n",
       "      <td>20.96</td>\n",
       "      <td>39.10</td>\n",
       "      <td>19.73</td>\n",
       "      <td>0.26</td>\n",
       "      <td>40.93</td>\n",
       "      <td>59.27</td>\n",
       "      <td>3.50</td>\n",
       "      <td>1.08</td>\n",
       "      <td>1087.46</td>\n",
       "      <td>regular</td>\n",
       "    </tr>\n",
       "    <tr>\n",
       "      <th>4</th>\n",
       "      <td>4</td>\n",
       "      <td>American Veg Burger</td>\n",
       "      <td>177</td>\n",
       "      <td>512</td>\n",
       "      <td>15.30</td>\n",
       "      <td>23.45</td>\n",
       "      <td>10.51</td>\n",
       "      <td>0.17</td>\n",
       "      <td>25.24</td>\n",
       "      <td>56.96</td>\n",
       "      <td>7.85</td>\n",
       "      <td>4.76</td>\n",
       "      <td>1051.24</td>\n",
       "      <td>regular</td>\n",
       "    </tr>\n",
       "    <tr>\n",
       "      <th>...</th>\n",
       "      <td>...</td>\n",
       "      <td>...</td>\n",
       "      <td>...</td>\n",
       "      <td>...</td>\n",
       "      <td>...</td>\n",
       "      <td>...</td>\n",
       "      <td>...</td>\n",
       "      <td>...</td>\n",
       "      <td>...</td>\n",
       "      <td>...</td>\n",
       "      <td>...</td>\n",
       "      <td>...</td>\n",
       "      <td>...</td>\n",
       "      <td>...</td>\n",
       "    </tr>\n",
       "    <tr>\n",
       "      <th>136</th>\n",
       "      <td>136</td>\n",
       "      <td>Tomato Ketchup Sachets</td>\n",
       "      <td>8</td>\n",
       "      <td>11.23</td>\n",
       "      <td>0.08</td>\n",
       "      <td>23.45</td>\n",
       "      <td>0.38</td>\n",
       "      <td>0.25</td>\n",
       "      <td>0.08</td>\n",
       "      <td>2.63</td>\n",
       "      <td>2.33</td>\n",
       "      <td>1.64</td>\n",
       "      <td>414.71</td>\n",
       "      <td>condiments</td>\n",
       "    </tr>\n",
       "    <tr>\n",
       "      <th>137</th>\n",
       "      <td>137</td>\n",
       "      <td>Maple Syrup</td>\n",
       "      <td>3</td>\n",
       "      <td>86.4</td>\n",
       "      <td>0.00</td>\n",
       "      <td>0.00</td>\n",
       "      <td>0.00</td>\n",
       "      <td>0.40</td>\n",
       "      <td>0.30</td>\n",
       "      <td>21.60</td>\n",
       "      <td>16.20</td>\n",
       "      <td>5.34</td>\n",
       "      <td>71.05</td>\n",
       "      <td>condiments</td>\n",
       "    </tr>\n",
       "    <tr>\n",
       "      <th>138</th>\n",
       "      <td>138</td>\n",
       "      <td>Cheese Slice</td>\n",
       "      <td>14</td>\n",
       "      <td>51.03</td>\n",
       "      <td>3.06</td>\n",
       "      <td>3.99</td>\n",
       "      <td>0.00</td>\n",
       "      <td>0.00</td>\n",
       "      <td>13.43</td>\n",
       "      <td>0.72</td>\n",
       "      <td>0.54</td>\n",
       "      <td>0.00</td>\n",
       "      <td>15.00</td>\n",
       "      <td>condiments</td>\n",
       "    </tr>\n",
       "    <tr>\n",
       "      <th>139</th>\n",
       "      <td>139</td>\n",
       "      <td>Sweet Corn</td>\n",
       "      <td>40</td>\n",
       "      <td>45.08</td>\n",
       "      <td>1.47</td>\n",
       "      <td>1.00</td>\n",
       "      <td>2.89</td>\n",
       "      <td>0.01</td>\n",
       "      <td>2.00</td>\n",
       "      <td>7.55</td>\n",
       "      <td>2.54</td>\n",
       "      <td>0.00</td>\n",
       "      <td>178.95</td>\n",
       "      <td>condiments</td>\n",
       "    </tr>\n",
       "    <tr>\n",
       "      <th>140</th>\n",
       "      <td>140</td>\n",
       "      <td>Mixed Fruit Beverage</td>\n",
       "      <td>180</td>\n",
       "      <td>72.25</td>\n",
       "      <td>0.65</td>\n",
       "      <td>0.02</td>\n",
       "      <td>0.22</td>\n",
       "      <td>0.04</td>\n",
       "      <td>0.01</td>\n",
       "      <td>18.00</td>\n",
       "      <td>16.83</td>\n",
       "      <td>0.00</td>\n",
       "      <td>0.04</td>\n",
       "      <td>condiments</td>\n",
       "    </tr>\n",
       "  </tbody>\n",
       "</table>\n",
       "<p>141 rows × 14 columns</p>\n",
       "</div>"
      ],
      "text/plain": [
       "     Unnamed: 0                    item servesize calories  protien  totalfat  \\\n",
       "0             0         McVeggie Burger      168       402    10.24     13.83   \n",
       "1             1     McAloo Tikki Burger      146       339     8.50     11.31   \n",
       "2             2  McSpicy Paneer Burger      199       652    20.29     39.45   \n",
       "3             3       Spicy Paneer Wrap      250       674    20.96     39.10   \n",
       "4             4     American Veg Burger      177       512    15.30     23.45   \n",
       "..          ...                     ...       ...      ...      ...       ...   \n",
       "136         136  Tomato Ketchup Sachets         8    11.23     0.08     23.45   \n",
       "137         137             Maple Syrup         3     86.4     0.00      0.00   \n",
       "138         138            Cheese Slice        14    51.03     3.06      3.99   \n",
       "139         139              Sweet Corn        40    45.08     1.47      1.00   \n",
       "140         140    Mixed Fruit Beverage       180    72.25     0.65      0.02   \n",
       "\n",
       "     satfat  transfat  cholestrol  carbs  sugar  addedsugar  sodium  \\\n",
       "0      5.34      0.16        2.49  56.54   7.90        4.49  706.13   \n",
       "1      4.27      0.20        1.47   5.27   7.05        4.07  545.34   \n",
       "2     17.12      0.18       21.85  52.33   8.35        5.27 1074.58   \n",
       "3     19.73      0.26       40.93  59.27   3.50        1.08 1087.46   \n",
       "4     10.51      0.17       25.24  56.96   7.85        4.76 1051.24   \n",
       "..      ...       ...         ...    ...    ...         ...     ...   \n",
       "136    0.38      0.25        0.08   2.63   2.33        1.64  414.71   \n",
       "137    0.00      0.40        0.30  21.60  16.20        5.34   71.05   \n",
       "138    0.00      0.00       13.43   0.72   0.54        0.00   15.00   \n",
       "139    2.89      0.01        2.00   7.55   2.54        0.00  178.95   \n",
       "140    0.22      0.04        0.01  18.00  16.83        0.00    0.04   \n",
       "\n",
       "           menu  \n",
       "0       regular  \n",
       "1       regular  \n",
       "2       regular  \n",
       "3       regular  \n",
       "4       regular  \n",
       "..          ...  \n",
       "136  condiments  \n",
       "137  condiments  \n",
       "138  condiments  \n",
       "139  condiments  \n",
       "140  condiments  \n",
       "\n",
       "[141 rows x 14 columns]"
      ]
     },
     "execution_count": 3,
     "metadata": {},
     "output_type": "execute_result"
    }
   ],
   "source": [
    "df = pd.read_csv('mcdonaldata.csv')\n",
    "df"
   ]
  },
  {
   "cell_type": "code",
   "execution_count": 4,
   "metadata": {},
   "outputs": [
    {
     "data": {
      "text/plain": [
       "(141, 14)"
      ]
     },
     "execution_count": 4,
     "metadata": {},
     "output_type": "execute_result"
    }
   ],
   "source": [
    "# Tamaño del dataframe\n",
    "df.shape"
   ]
  },
  {
   "cell_type": "code",
   "execution_count": 5,
   "metadata": {},
   "outputs": [
    {
     "data": {
      "text/plain": [
       "Unnamed: 0      int64\n",
       "item           object\n",
       "servesize      object\n",
       "calories       object\n",
       "protien       float64\n",
       "totalfat      float64\n",
       "satfat        float64\n",
       "transfat      float64\n",
       "cholestrol    float64\n",
       "carbs         float64\n",
       "sugar         float64\n",
       "addedsugar    float64\n",
       "sodium        float64\n",
       "menu           object\n",
       "dtype: object"
      ]
     },
     "execution_count": 5,
     "metadata": {},
     "output_type": "execute_result"
    }
   ],
   "source": [
    "# Tipo de dato de cada variable\n",
    "df.dtypes"
   ]
  },
  {
   "cell_type": "code",
   "execution_count": 6,
   "metadata": {},
   "outputs": [],
   "source": [
    "df['calories'] = df['calories'].astype(float)"
   ]
  },
  {
   "cell_type": "code",
   "execution_count": 7,
   "metadata": {},
   "outputs": [],
   "source": [
    "# Borro la columna que no necesito\n",
    "df.drop(columns='Unnamed: 0', inplace=True)"
   ]
  },
  {
   "cell_type": "code",
   "execution_count": 8,
   "metadata": {},
   "outputs": [
    {
     "name": "stdout",
     "output_type": "stream",
     "text": [
      "<class 'pandas.core.frame.DataFrame'>\n",
      "RangeIndex: 141 entries, 0 to 140\n",
      "Data columns (total 13 columns):\n",
      " #   Column      Non-Null Count  Dtype  \n",
      "---  ------      --------------  -----  \n",
      " 0   item        141 non-null    object \n",
      " 1   servesize   141 non-null    object \n",
      " 2   calories    141 non-null    float64\n",
      " 3   protien     141 non-null    float64\n",
      " 4   totalfat    141 non-null    float64\n",
      " 5   satfat      141 non-null    float64\n",
      " 6   transfat    141 non-null    float64\n",
      " 7   cholestrol  141 non-null    float64\n",
      " 8   carbs       141 non-null    float64\n",
      " 9   sugar       141 non-null    float64\n",
      " 10  addedsugar  141 non-null    float64\n",
      " 11  sodium      141 non-null    float64\n",
      " 12  menu        141 non-null    object \n",
      "dtypes: float64(10), object(3)\n",
      "memory usage: 14.4+ KB\n"
     ]
    }
   ],
   "source": [
    "# Busco valores faltantes, nulos o repetidos para hacer limpieza de datos\n",
    "df.info()"
   ]
  },
  {
   "cell_type": "code",
   "execution_count": 9,
   "metadata": {},
   "outputs": [
    {
     "data": {
      "text/plain": [
       "0"
      ]
     },
     "execution_count": 9,
     "metadata": {},
     "output_type": "execute_result"
    }
   ],
   "source": [
    "df.duplicated().sum()"
   ]
  },
  {
   "cell_type": "code",
   "execution_count": 10,
   "metadata": {},
   "outputs": [
    {
     "data": {
      "text/plain": [
       "item          0\n",
       "servesize     0\n",
       "calories      0\n",
       "protien       0\n",
       "totalfat      0\n",
       "satfat        0\n",
       "transfat      0\n",
       "cholestrol    0\n",
       "carbs         0\n",
       "sugar         0\n",
       "addedsugar    0\n",
       "sodium        0\n",
       "menu          0\n",
       "dtype: int64"
      ]
     },
     "execution_count": 10,
     "metadata": {},
     "output_type": "execute_result"
    }
   ],
   "source": [
    "df.isnull().sum()"
   ]
  },
  {
   "attachments": {},
   "cell_type": "markdown",
   "metadata": {},
   "source": [
    "# EDA"
   ]
  },
  {
   "cell_type": "code",
   "execution_count": 11,
   "metadata": {},
   "outputs": [
    {
     "data": {
      "text/plain": [
       "Index(['item', 'servesize', 'calories', 'protien', 'totalfat', 'satfat',\n",
       "       'transfat', 'cholestrol', 'carbs', 'sugar', 'addedsugar', 'sodium',\n",
       "       'menu'],\n",
       "      dtype='object')"
      ]
     },
     "execution_count": 11,
     "metadata": {},
     "output_type": "execute_result"
    }
   ],
   "source": [
    "df.columns"
   ]
  },
  {
   "cell_type": "code",
   "execution_count": 12,
   "metadata": {},
   "outputs": [
    {
     "data": {
      "text/html": [
       "<div>\n",
       "<style scoped>\n",
       "    .dataframe tbody tr th:only-of-type {\n",
       "        vertical-align: middle;\n",
       "    }\n",
       "\n",
       "    .dataframe tbody tr th {\n",
       "        vertical-align: top;\n",
       "    }\n",
       "\n",
       "    .dataframe thead th {\n",
       "        text-align: right;\n",
       "    }\n",
       "</style>\n",
       "<table border=\"1\" class=\"dataframe\">\n",
       "  <thead>\n",
       "    <tr style=\"text-align: right;\">\n",
       "      <th></th>\n",
       "      <th>item</th>\n",
       "      <th>calories</th>\n",
       "    </tr>\n",
       "  </thead>\n",
       "  <tbody>\n",
       "    <tr>\n",
       "      <th>7</th>\n",
       "      <td>Pizza Puff</td>\n",
       "      <td>228.00</td>\n",
       "    </tr>\n",
       "    <tr>\n",
       "      <th>1</th>\n",
       "      <td>McAloo Tikki Burger</td>\n",
       "      <td>339.00</td>\n",
       "    </tr>\n",
       "    <tr>\n",
       "      <th>9</th>\n",
       "      <td>FILLET-O-FISH Burger</td>\n",
       "      <td>348.00</td>\n",
       "    </tr>\n",
       "    <tr>\n",
       "      <th>6</th>\n",
       "      <td>Green Chilli Aloo Naan p</td>\n",
       "      <td>356.00</td>\n",
       "    </tr>\n",
       "    <tr>\n",
       "      <th>8</th>\n",
       "      <td>Mc chicken Burger</td>\n",
       "      <td>400.00</td>\n",
       "    </tr>\n",
       "    <tr>\n",
       "      <th>0</th>\n",
       "      <td>McVeggie Burger</td>\n",
       "      <td>402.00</td>\n",
       "    </tr>\n",
       "    <tr>\n",
       "      <th>4</th>\n",
       "      <td>American Veg Burger</td>\n",
       "      <td>512.00</td>\n",
       "    </tr>\n",
       "    <tr>\n",
       "      <th>2</th>\n",
       "      <td>McSpicy Paneer Burger</td>\n",
       "      <td>652.00</td>\n",
       "    </tr>\n",
       "    <tr>\n",
       "      <th>3</th>\n",
       "      <td>Spicy Paneer Wrap</td>\n",
       "      <td>674.00</td>\n",
       "    </tr>\n",
       "    <tr>\n",
       "      <th>5</th>\n",
       "      <td>Veg Maharaja Mac</td>\n",
       "      <td>832.00</td>\n",
       "    </tr>\n",
       "  </tbody>\n",
       "</table>\n",
       "</div>"
      ],
      "text/plain": [
       "                       item  calories\n",
       "7               Pizza Puff     228.00\n",
       "1       McAloo Tikki Burger    339.00\n",
       "9     FILLET-O-FISH Burger     348.00\n",
       "6  Green Chilli Aloo Naan p    356.00\n",
       "8        Mc chicken Burger     400.00\n",
       "0           McVeggie Burger    402.00\n",
       "4       American Veg Burger    512.00\n",
       "2    McSpicy Paneer Burger    652.00\n",
       "3         Spicy Paneer Wrap    674.00\n",
       "5         Veg Maharaja Mac     832.00"
      ]
     },
     "execution_count": 12,
     "metadata": {},
     "output_type": "execute_result"
    }
   ],
   "source": [
    "# Los 10 productos con mas calorias ordenador de menor a mayor\n",
    "df_top10calories = df[['item', 'calories']].head(10).sort_values('calories')\n",
    "df_top10calories"
   ]
  },
  {
   "cell_type": "code",
   "execution_count": 13,
   "metadata": {},
   "outputs": [
    {
     "data": {
      "text/plain": [
       "(array([0, 1, 2, 3, 4, 5, 6, 7, 8, 9]),\n",
       " [Text(0, 0, 'Pizza Puff\\xa0'),\n",
       "  Text(1, 0, 'McAloo Tikki Burger'),\n",
       "  Text(2, 0, 'FILLET-O-FISH Burger\\xa0'),\n",
       "  Text(3, 0, 'Green Chilli Aloo Naan p'),\n",
       "  Text(4, 0, 'Mc chicken Burger\\xa0'),\n",
       "  Text(5, 0, 'McVeggie Burger'),\n",
       "  Text(6, 0, 'American Veg Burger'),\n",
       "  Text(7, 0, 'McSpicy\\x99 Paneer Burger'),\n",
       "  Text(8, 0, 'Spicy Paneer Wrap'),\n",
       "  Text(9, 0, 'Veg Maharaja Mac\\xa0')])"
      ]
     },
     "execution_count": 13,
     "metadata": {},
     "output_type": "execute_result"
    },
    {
     "data": {
      "image/png": "[encoded data removed]",
      "text/plain": [
       "<Figure size 640x480 with 1 Axes>"
      ]
     },
     "metadata": {},
     "output_type": "display_data"
    }
   ],
   "source": [
    "sns.set(style='darkgrid')\n",
    "sns.barplot(x=('item'),y=('calories'),data=df_top10calories)\n",
    "plt.xticks(rotation=90)\n"
   ]
  },
  {
   "cell_type": "code",
   "execution_count": 14,
   "metadata": {},
   "outputs": [
    {
     "data": {
      "text/plain": [
       "menu\n",
       "beverage      17\n",
       "breakfast      8\n",
       "condiments     9\n",
       "dessert       12\n",
       "gourmet       11\n",
       "mccafe        48\n",
       "regular       36\n",
       "Name: item, dtype: int64"
      ]
     },
     "execution_count": 14,
     "metadata": {},
     "output_type": "execute_result"
    }
   ],
   "source": [
    "# Agrupo para ver la cantidad de items por cada menu\n",
    "df.groupby('menu')['item'].count()"
   ]
  },
  {
   "cell_type": "code",
   "execution_count": 15,
   "metadata": {},
   "outputs": [
    {
     "data": {
      "text/html": [
       "<div>\n",
       "<style scoped>\n",
       "    .dataframe tbody tr th:only-of-type {\n",
       "        vertical-align: middle;\n",
       "    }\n",
       "\n",
       "    .dataframe tbody tr th {\n",
       "        vertical-align: top;\n",
       "    }\n",
       "\n",
       "    .dataframe thead th {\n",
       "        text-align: right;\n",
       "    }\n",
       "</style>\n",
       "<table border=\"1\" class=\"dataframe\">\n",
       "  <thead>\n",
       "    <tr style=\"text-align: right;\">\n",
       "      <th></th>\n",
       "      <th>calories</th>\n",
       "      <th>protien</th>\n",
       "      <th>totalfat</th>\n",
       "      <th>satfat</th>\n",
       "      <th>transfat</th>\n",
       "      <th>cholestrol</th>\n",
       "      <th>carbs</th>\n",
       "      <th>sugar</th>\n",
       "      <th>addedsugar</th>\n",
       "      <th>sodium</th>\n",
       "    </tr>\n",
       "    <tr>\n",
       "      <th>menu</th>\n",
       "      <th></th>\n",
       "      <th></th>\n",
       "      <th></th>\n",
       "      <th></th>\n",
       "      <th></th>\n",
       "      <th></th>\n",
       "      <th></th>\n",
       "      <th></th>\n",
       "      <th></th>\n",
       "      <th></th>\n",
       "    </tr>\n",
       "  </thead>\n",
       "  <tbody>\n",
       "    <tr>\n",
       "      <th>beverage</th>\n",
       "      <td>145.16</td>\n",
       "      <td>0.00</td>\n",
       "      <td>0.00</td>\n",
       "      <td>0.00</td>\n",
       "      <td>0.00</td>\n",
       "      <td>0.00</td>\n",
       "      <td>32.37</td>\n",
       "      <td>32.37</td>\n",
       "      <td>32.37</td>\n",
       "      <td>34.74</td>\n",
       "    </tr>\n",
       "    <tr>\n",
       "      <th>breakfast</th>\n",
       "      <td>282.45</td>\n",
       "      <td>10.86</td>\n",
       "      <td>12.06</td>\n",
       "      <td>7.02</td>\n",
       "      <td>0.17</td>\n",
       "      <td>45.39</td>\n",
       "      <td>28.94</td>\n",
       "      <td>2.60</td>\n",
       "      <td>0.75</td>\n",
       "      <td>682.78</td>\n",
       "    </tr>\n",
       "    <tr>\n",
       "      <th>condiments</th>\n",
       "      <td>51.03</td>\n",
       "      <td>0.51</td>\n",
       "      <td>0.49</td>\n",
       "      <td>0.15</td>\n",
       "      <td>0.04</td>\n",
       "      <td>0.25</td>\n",
       "      <td>7.24</td>\n",
       "      <td>2.54</td>\n",
       "      <td>1.34</td>\n",
       "      <td>71.05</td>\n",
       "    </tr>\n",
       "    <tr>\n",
       "      <th>dessert</th>\n",
       "      <td>178.79</td>\n",
       "      <td>2.96</td>\n",
       "      <td>5.46</td>\n",
       "      <td>3.66</td>\n",
       "      <td>0.10</td>\n",
       "      <td>6.12</td>\n",
       "      <td>31.09</td>\n",
       "      <td>23.05</td>\n",
       "      <td>15.64</td>\n",
       "      <td>90.81</td>\n",
       "    </tr>\n",
       "    <tr>\n",
       "      <th>gourmet</th>\n",
       "      <td>524.69</td>\n",
       "      <td>22.44</td>\n",
       "      <td>29.30</td>\n",
       "      <td>11.56</td>\n",
       "      <td>0.19</td>\n",
       "      <td>48.74</td>\n",
       "      <td>46.00</td>\n",
       "      <td>7.90</td>\n",
       "      <td>3.84</td>\n",
       "      <td>1229.86</td>\n",
       "    </tr>\n",
       "    <tr>\n",
       "      <th>mccafe</th>\n",
       "      <td>158.92</td>\n",
       "      <td>3.77</td>\n",
       "      <td>4.42</td>\n",
       "      <td>3.17</td>\n",
       "      <td>0.23</td>\n",
       "      <td>9.39</td>\n",
       "      <td>22.72</td>\n",
       "      <td>18.05</td>\n",
       "      <td>1.20</td>\n",
       "      <td>87.92</td>\n",
       "    </tr>\n",
       "    <tr>\n",
       "      <th>regular</th>\n",
       "      <td>345.00</td>\n",
       "      <td>11.27</td>\n",
       "      <td>14.50</td>\n",
       "      <td>5.95</td>\n",
       "      <td>0.15</td>\n",
       "      <td>24.95</td>\n",
       "      <td>38.70</td>\n",
       "      <td>3.37</td>\n",
       "      <td>0.35</td>\n",
       "      <td>564.19</td>\n",
       "    </tr>\n",
       "  </tbody>\n",
       "</table>\n",
       "</div>"
      ],
      "text/plain": [
       "            calories  protien  totalfat  satfat  transfat  cholestrol  carbs  \\\n",
       "menu                                                                           \n",
       "beverage      145.16     0.00      0.00    0.00      0.00        0.00  32.37   \n",
       "breakfast     282.45    10.86     12.06    7.02      0.17       45.39  28.94   \n",
       "condiments     51.03     0.51      0.49    0.15      0.04        0.25   7.24   \n",
       "dessert       178.79     2.96      5.46    3.66      0.10        6.12  31.09   \n",
       "gourmet       524.69    22.44     29.30   11.56      0.19       48.74  46.00   \n",
       "mccafe        158.92     3.77      4.42    3.17      0.23        9.39  22.72   \n",
       "regular       345.00    11.27     14.50    5.95      0.15       24.95  38.70   \n",
       "\n",
       "            sugar  addedsugar  sodium  \n",
       "menu                                   \n",
       "beverage    32.37       32.37   34.74  \n",
       "breakfast    2.60        0.75  682.78  \n",
       "condiments   2.54        1.34   71.05  \n",
       "dessert     23.05       15.64   90.81  \n",
       "gourmet      7.90        3.84 1229.86  \n",
       "mccafe      18.05        1.20   87.92  \n",
       "regular      3.37        0.35  564.19  "
      ]
     },
     "execution_count": 15,
     "metadata": {},
     "output_type": "execute_result"
    }
   ],
   "source": [
    "# Calculo la mediana de cada valor por tipo de menu\n",
    "df.groupby('menu').median()\n"
   ]
  },
  {
   "cell_type": "code",
   "execution_count": 16,
   "metadata": {},
   "outputs": [
    {
     "data": {
      "text/html": [
       "<div>\n",
       "<style scoped>\n",
       "    .dataframe tbody tr th:only-of-type {\n",
       "        vertical-align: middle;\n",
       "    }\n",
       "\n",
       "    .dataframe tbody tr th {\n",
       "        vertical-align: top;\n",
       "    }\n",
       "\n",
       "    .dataframe thead th {\n",
       "        text-align: right;\n",
       "    }\n",
       "</style>\n",
       "<table border=\"1\" class=\"dataframe\">\n",
       "  <thead>\n",
       "    <tr style=\"text-align: right;\">\n",
       "      <th></th>\n",
       "      <th>item</th>\n",
       "      <th>servesize</th>\n",
       "      <th>calories</th>\n",
       "      <th>protien</th>\n",
       "      <th>totalfat</th>\n",
       "      <th>satfat</th>\n",
       "      <th>transfat</th>\n",
       "      <th>cholestrol</th>\n",
       "      <th>carbs</th>\n",
       "      <th>sugar</th>\n",
       "      <th>addedsugar</th>\n",
       "      <th>sodium</th>\n",
       "      <th>menu</th>\n",
       "    </tr>\n",
       "  </thead>\n",
       "  <tbody>\n",
       "    <tr>\n",
       "      <th>120</th>\n",
       "      <td>Large Fanta Orange</td>\n",
       "      <td>544</td>\n",
       "      <td>256.88</td>\n",
       "      <td>0.00</td>\n",
       "      <td>0.00</td>\n",
       "      <td>0.00</td>\n",
       "      <td>0.00</td>\n",
       "      <td>0.00</td>\n",
       "      <td>64.22</td>\n",
       "      <td>64.22</td>\n",
       "      <td>64.22</td>\n",
       "      <td>25.15</td>\n",
       "      <td>beverage</td>\n",
       "    </tr>\n",
       "    <tr>\n",
       "      <th>126</th>\n",
       "      <td>Large Sprite</td>\n",
       "      <td>544</td>\n",
       "      <td>237.12</td>\n",
       "      <td>0.00</td>\n",
       "      <td>0.00</td>\n",
       "      <td>0.00</td>\n",
       "      <td>0.00</td>\n",
       "      <td>0.00</td>\n",
       "      <td>59.28</td>\n",
       "      <td>59.28</td>\n",
       "      <td>59.28</td>\n",
       "      <td>44.53</td>\n",
       "      <td>beverage</td>\n",
       "    </tr>\n",
       "    <tr>\n",
       "      <th>117</th>\n",
       "      <td>Large Coca-Cola</td>\n",
       "      <td>544</td>\n",
       "      <td>217.36</td>\n",
       "      <td>0.00</td>\n",
       "      <td>0.00</td>\n",
       "      <td>0.00</td>\n",
       "      <td>0.00</td>\n",
       "      <td>0.00</td>\n",
       "      <td>54.34</td>\n",
       "      <td>54.34</td>\n",
       "      <td>54.34</td>\n",
       "      <td>55.53</td>\n",
       "      <td>beverage</td>\n",
       "    </tr>\n",
       "    <tr>\n",
       "      <th>123</th>\n",
       "      <td>Large Thums-up</td>\n",
       "      <td>544</td>\n",
       "      <td>197.60</td>\n",
       "      <td>0.00</td>\n",
       "      <td>0.00</td>\n",
       "      <td>0.00</td>\n",
       "      <td>0.00</td>\n",
       "      <td>0.00</td>\n",
       "      <td>49.40</td>\n",
       "      <td>49.40</td>\n",
       "      <td>49.40</td>\n",
       "      <td>2.02</td>\n",
       "      <td>beverage</td>\n",
       "    </tr>\n",
       "    <tr>\n",
       "      <th>119</th>\n",
       "      <td>Medium Fanta Orange</td>\n",
       "      <td>394</td>\n",
       "      <td>178.88</td>\n",
       "      <td>0.00</td>\n",
       "      <td>0.00</td>\n",
       "      <td>0.00</td>\n",
       "      <td>0.00</td>\n",
       "      <td>0.00</td>\n",
       "      <td>44.71</td>\n",
       "      <td>44.72</td>\n",
       "      <td>44.72</td>\n",
       "      <td>110.16</td>\n",
       "      <td>beverage</td>\n",
       "    </tr>\n",
       "    <tr>\n",
       "      <th>125</th>\n",
       "      <td>Medium Sprite</td>\n",
       "      <td>394</td>\n",
       "      <td>165.12</td>\n",
       "      <td>0.00</td>\n",
       "      <td>0.00</td>\n",
       "      <td>0.00</td>\n",
       "      <td>0.00</td>\n",
       "      <td>0.00</td>\n",
       "      <td>41.28</td>\n",
       "      <td>41.28</td>\n",
       "      <td>41.28</td>\n",
       "      <td>4.00</td>\n",
       "      <td>beverage</td>\n",
       "    </tr>\n",
       "    <tr>\n",
       "      <th>128</th>\n",
       "      <td>Fanta Float</td>\n",
       "      <td>286.79</td>\n",
       "      <td>151.56</td>\n",
       "      <td>1.52</td>\n",
       "      <td>1.75</td>\n",
       "      <td>1.28</td>\n",
       "      <td>0.25</td>\n",
       "      <td>4.70</td>\n",
       "      <td>27.74</td>\n",
       "      <td>31.43</td>\n",
       "      <td>27.74</td>\n",
       "      <td>47.09</td>\n",
       "      <td>beverage</td>\n",
       "    </tr>\n",
       "    <tr>\n",
       "      <th>116</th>\n",
       "      <td>Medium Coca-Cola</td>\n",
       "      <td>394</td>\n",
       "      <td>151.36</td>\n",
       "      <td>0.00</td>\n",
       "      <td>0.00</td>\n",
       "      <td>0.00</td>\n",
       "      <td>0.00</td>\n",
       "      <td>0.00</td>\n",
       "      <td>37.84</td>\n",
       "      <td>37.84</td>\n",
       "      <td>37.84</td>\n",
       "      <td>41.99</td>\n",
       "      <td>beverage</td>\n",
       "    </tr>\n",
       "    <tr>\n",
       "      <th>129</th>\n",
       "      <td>Sprite Float</td>\n",
       "      <td>286.79</td>\n",
       "      <td>145.16</td>\n",
       "      <td>1.52</td>\n",
       "      <td>1.75</td>\n",
       "      <td>1.28</td>\n",
       "      <td>0.25</td>\n",
       "      <td>4.70</td>\n",
       "      <td>26.14</td>\n",
       "      <td>29.83</td>\n",
       "      <td>26.14</td>\n",
       "      <td>24.75</td>\n",
       "      <td>beverage</td>\n",
       "    </tr>\n",
       "    <tr>\n",
       "      <th>127</th>\n",
       "      <td>Coke Float</td>\n",
       "      <td>286.79</td>\n",
       "      <td>138.76</td>\n",
       "      <td>1.52</td>\n",
       "      <td>1.75</td>\n",
       "      <td>1.28</td>\n",
       "      <td>0.05</td>\n",
       "      <td>4.70</td>\n",
       "      <td>24.54</td>\n",
       "      <td>28.23</td>\n",
       "      <td>24.54</td>\n",
       "      <td>66.61</td>\n",
       "      <td>beverage</td>\n",
       "    </tr>\n",
       "    <tr>\n",
       "      <th>122</th>\n",
       "      <td>Medium Thums-up</td>\n",
       "      <td>394</td>\n",
       "      <td>137.60</td>\n",
       "      <td>0.00</td>\n",
       "      <td>0.00</td>\n",
       "      <td>0.00</td>\n",
       "      <td>0.00</td>\n",
       "      <td>0.00</td>\n",
       "      <td>34.40</td>\n",
       "      <td>34.40</td>\n",
       "      <td>34.40</td>\n",
       "      <td>49.89</td>\n",
       "      <td>beverage</td>\n",
       "    </tr>\n",
       "    <tr>\n",
       "      <th>118</th>\n",
       "      <td>Small Fanta Orange</td>\n",
       "      <td>299</td>\n",
       "      <td>129.48</td>\n",
       "      <td>0.00</td>\n",
       "      <td>0.00</td>\n",
       "      <td>0.00</td>\n",
       "      <td>0.00</td>\n",
       "      <td>0.00</td>\n",
       "      <td>32.37</td>\n",
       "      <td>32.37</td>\n",
       "      <td>32.37</td>\n",
       "      <td>76.71</td>\n",
       "      <td>beverage</td>\n",
       "    </tr>\n",
       "    <tr>\n",
       "      <th>124</th>\n",
       "      <td>Small Sprite</td>\n",
       "      <td>299</td>\n",
       "      <td>119.52</td>\n",
       "      <td>0.00</td>\n",
       "      <td>0.00</td>\n",
       "      <td>0.00</td>\n",
       "      <td>0.00</td>\n",
       "      <td>0.00</td>\n",
       "      <td>29.88</td>\n",
       "      <td>29.88</td>\n",
       "      <td>29.88</td>\n",
       "      <td>2.79</td>\n",
       "      <td>beverage</td>\n",
       "    </tr>\n",
       "    <tr>\n",
       "      <th>115</th>\n",
       "      <td>Small Coca-Cola</td>\n",
       "      <td>299</td>\n",
       "      <td>109.56</td>\n",
       "      <td>0.00</td>\n",
       "      <td>0.00</td>\n",
       "      <td>0.00</td>\n",
       "      <td>0.00</td>\n",
       "      <td>0.00</td>\n",
       "      <td>27.39</td>\n",
       "      <td>27.39</td>\n",
       "      <td>27.39</td>\n",
       "      <td>29.24</td>\n",
       "      <td>beverage</td>\n",
       "    </tr>\n",
       "    <tr>\n",
       "      <th>121</th>\n",
       "      <td>Small Thums-up</td>\n",
       "      <td>299</td>\n",
       "      <td>99.60</td>\n",
       "      <td>0.00</td>\n",
       "      <td>0.00</td>\n",
       "      <td>0.00</td>\n",
       "      <td>0.00</td>\n",
       "      <td>0.00</td>\n",
       "      <td>24.90</td>\n",
       "      <td>24.90</td>\n",
       "      <td>24.90</td>\n",
       "      <td>34.74</td>\n",
       "      <td>beverage</td>\n",
       "    </tr>\n",
       "    <tr>\n",
       "      <th>130</th>\n",
       "      <td>Coke Zero Can</td>\n",
       "      <td>330</td>\n",
       "      <td>0.99</td>\n",
       "      <td>0.00</td>\n",
       "      <td>0.00</td>\n",
       "      <td>0.00</td>\n",
       "      <td>0.00</td>\n",
       "      <td>0.00</td>\n",
       "      <td>0.00</td>\n",
       "      <td>0.00</td>\n",
       "      <td>0.00</td>\n",
       "      <td>2.90</td>\n",
       "      <td>beverage</td>\n",
       "    </tr>\n",
       "    <tr>\n",
       "      <th>131</th>\n",
       "      <td>Vedica Natural Mineral Water</td>\n",
       "      <td>500</td>\n",
       "      <td>0.00</td>\n",
       "      <td>0.00</td>\n",
       "      <td>0.00</td>\n",
       "      <td>0.00</td>\n",
       "      <td>0.00</td>\n",
       "      <td>0.00</td>\n",
       "      <td>0.00</td>\n",
       "      <td>0.00</td>\n",
       "      <td>0.00</td>\n",
       "      <td>0.00</td>\n",
       "      <td>beverage</td>\n",
       "    </tr>\n",
       "  </tbody>\n",
       "</table>\n",
       "</div>"
      ],
      "text/plain": [
       "                             item servesize  calories  protien  totalfat  \\\n",
       "120            Large Fanta Orange      544     256.88     0.00      0.00   \n",
       "126                  Large Sprite      544     237.12     0.00      0.00   \n",
       "117               Large Coca-Cola      544     217.36     0.00      0.00   \n",
       "123                Large Thums-up       544    197.60     0.00      0.00   \n",
       "119           Medium Fanta Orange      394     178.88     0.00      0.00   \n",
       "125                 Medium Sprite      394     165.12     0.00      0.00   \n",
       "128                   Fanta Float    286.79    151.56     1.52      1.75   \n",
       "116              Medium Coca-Cola      394     151.36     0.00      0.00   \n",
       "129                  Sprite Float    286.79    145.16     1.52      1.75   \n",
       "127                    Coke Float   286.79     138.76     1.52      1.75   \n",
       "122               Medium Thums-up       394    137.60     0.00      0.00   \n",
       "118            Small Fanta Orange      299     129.48     0.00      0.00   \n",
       "124                  Small Sprite      299     119.52     0.00      0.00   \n",
       "115               Small Coca-Cola      299     109.56     0.00      0.00   \n",
       "121                Small Thums-up       299     99.60     0.00      0.00   \n",
       "130                 Coke Zero Can       330      0.99     0.00      0.00   \n",
       "131  Vedica Natural Mineral Water       500      0.00     0.00      0.00   \n",
       "\n",
       "     satfat  transfat  cholestrol  carbs  sugar  addedsugar  sodium      menu  \n",
       "120    0.00      0.00        0.00  64.22  64.22       64.22   25.15  beverage  \n",
       "126    0.00      0.00        0.00  59.28  59.28       59.28   44.53  beverage  \n",
       "117    0.00      0.00        0.00  54.34  54.34       54.34   55.53  beverage  \n",
       "123    0.00      0.00        0.00  49.40  49.40       49.40    2.02  beverage  \n",
       "119    0.00      0.00        0.00  44.71  44.72       44.72  110.16  beverage  \n",
       "125    0.00      0.00        0.00  41.28  41.28       41.28    4.00  beverage  \n",
       "128    1.28      0.25        4.70  27.74  31.43       27.74   47.09  beverage  \n",
       "116    0.00      0.00        0.00  37.84  37.84       37.84   41.99  beverage  \n",
       "129    1.28      0.25        4.70  26.14  29.83       26.14   24.75  beverage  \n",
       "127    1.28      0.05        4.70  24.54  28.23       24.54   66.61  beverage  \n",
       "122    0.00      0.00        0.00  34.40  34.40       34.40   49.89  beverage  \n",
       "118    0.00      0.00        0.00  32.37  32.37       32.37   76.71  beverage  \n",
       "124    0.00      0.00        0.00  29.88  29.88       29.88    2.79  beverage  \n",
       "115    0.00      0.00        0.00  27.39  27.39       27.39   29.24  beverage  \n",
       "121    0.00      0.00        0.00  24.90  24.90       24.90   34.74  beverage  \n",
       "130    0.00      0.00        0.00   0.00   0.00        0.00    2.90  beverage  \n",
       "131    0.00      0.00        0.00   0.00   0.00        0.00    0.00  beverage  "
      ]
     },
     "execution_count": 16,
     "metadata": {},
     "output_type": "execute_result"
    }
   ],
   "source": [
    "#filtro las bebidas y ordeno por caloras de mayor a menor\n",
    "df[df['menu'] == 'beverage'].sort_values('calories', ascending=False)"
   ]
  },
  {
   "cell_type": "code",
   "execution_count": 17,
   "metadata": {},
   "outputs": [
    {
     "data": {
      "text/html": [
       "<div>\n",
       "<style scoped>\n",
       "    .dataframe tbody tr th:only-of-type {\n",
       "        vertical-align: middle;\n",
       "    }\n",
       "\n",
       "    .dataframe tbody tr th {\n",
       "        vertical-align: top;\n",
       "    }\n",
       "\n",
       "    .dataframe thead th {\n",
       "        text-align: right;\n",
       "    }\n",
       "</style>\n",
       "<table border=\"1\" class=\"dataframe\">\n",
       "  <thead>\n",
       "    <tr style=\"text-align: right;\">\n",
       "      <th></th>\n",
       "      <th>item</th>\n",
       "      <th>servesize</th>\n",
       "      <th>calories</th>\n",
       "      <th>protien</th>\n",
       "      <th>totalfat</th>\n",
       "      <th>satfat</th>\n",
       "      <th>transfat</th>\n",
       "      <th>cholestrol</th>\n",
       "      <th>carbs</th>\n",
       "      <th>sugar</th>\n",
       "      <th>addedsugar</th>\n",
       "      <th>sodium</th>\n",
       "      <th>menu</th>\n",
       "    </tr>\n",
       "  </thead>\n",
       "  <tbody>\n",
       "    <tr>\n",
       "      <th>42</th>\n",
       "      <td>Hot Cake with maple syrup</td>\n",
       "      <td>142</td>\n",
       "      <td>432.98</td>\n",
       "      <td>8.60</td>\n",
       "      <td>14.02</td>\n",
       "      <td>7.11</td>\n",
       "      <td>0.32</td>\n",
       "      <td>28.14</td>\n",
       "      <td>68.01</td>\n",
       "      <td>25.72</td>\n",
       "      <td>13.50</td>\n",
       "      <td>615.74</td>\n",
       "      <td>breakfast</td>\n",
       "    </tr>\n",
       "    <tr>\n",
       "      <th>36</th>\n",
       "      <td>Veg McMuffin</td>\n",
       "      <td>119</td>\n",
       "      <td>309.35</td>\n",
       "      <td>10.22</td>\n",
       "      <td>11.78</td>\n",
       "      <td>7.29</td>\n",
       "      <td>0.18</td>\n",
       "      <td>25.31</td>\n",
       "      <td>38.86</td>\n",
       "      <td>3.02</td>\n",
       "      <td>0.75</td>\n",
       "      <td>804.63</td>\n",
       "      <td>breakfast</td>\n",
       "    </tr>\n",
       "    <tr>\n",
       "      <th>40</th>\n",
       "      <td>Sausage Mc Muffin with egg</td>\n",
       "      <td>157</td>\n",
       "      <td>290.42</td>\n",
       "      <td>22.46</td>\n",
       "      <td>15.94</td>\n",
       "      <td>8.08</td>\n",
       "      <td>0.22</td>\n",
       "      <td>264.80</td>\n",
       "      <td>28.87</td>\n",
       "      <td>2.61</td>\n",
       "      <td>0.75</td>\n",
       "      <td>804.04</td>\n",
       "      <td>breakfast</td>\n",
       "    </tr>\n",
       "    <tr>\n",
       "      <th>41</th>\n",
       "      <td>Egg McMuffin</td>\n",
       "      <td>112</td>\n",
       "      <td>283.46</td>\n",
       "      <td>14.05</td>\n",
       "      <td>12.31</td>\n",
       "      <td>6.92</td>\n",
       "      <td>0.17</td>\n",
       "      <td>233.30</td>\n",
       "      <td>28.12</td>\n",
       "      <td>2.38</td>\n",
       "      <td>0.75</td>\n",
       "      <td>519.31</td>\n",
       "      <td>breakfast</td>\n",
       "    </tr>\n",
       "    <tr>\n",
       "      <th>39</th>\n",
       "      <td>Sausage Mc Muffin</td>\n",
       "      <td>112</td>\n",
       "      <td>281.44</td>\n",
       "      <td>16.25</td>\n",
       "      <td>10.81</td>\n",
       "      <td>6.04</td>\n",
       "      <td>0.17</td>\n",
       "      <td>53.02</td>\n",
       "      <td>28.62</td>\n",
       "      <td>2.38</td>\n",
       "      <td>0.75</td>\n",
       "      <td>742.60</td>\n",
       "      <td>breakfast</td>\n",
       "    </tr>\n",
       "    <tr>\n",
       "      <th>38</th>\n",
       "      <td>Spicy Egg McMuffin</td>\n",
       "      <td>123.2</td>\n",
       "      <td>278.27</td>\n",
       "      <td>11.49</td>\n",
       "      <td>11.81</td>\n",
       "      <td>3.43</td>\n",
       "      <td>0.11</td>\n",
       "      <td>212.61</td>\n",
       "      <td>31.37</td>\n",
       "      <td>2.63</td>\n",
       "      <td>1.05</td>\n",
       "      <td>773.60</td>\n",
       "      <td>breakfast</td>\n",
       "    </tr>\n",
       "    <tr>\n",
       "      <th>37</th>\n",
       "      <td>Double Cheese McMuffin</td>\n",
       "      <td>100</td>\n",
       "      <td>273.78</td>\n",
       "      <td>9.58</td>\n",
       "      <td>12.82</td>\n",
       "      <td>8.84</td>\n",
       "      <td>0.21</td>\n",
       "      <td>37.75</td>\n",
       "      <td>29.00</td>\n",
       "      <td>2.59</td>\n",
       "      <td>0.75</td>\n",
       "      <td>622.95</td>\n",
       "      <td>breakfast</td>\n",
       "    </tr>\n",
       "    <tr>\n",
       "      <th>43</th>\n",
       "      <td>Hash Brown</td>\n",
       "      <td>64</td>\n",
       "      <td>140.29</td>\n",
       "      <td>1.93</td>\n",
       "      <td>7.32</td>\n",
       "      <td>3.42</td>\n",
       "      <td>0.06</td>\n",
       "      <td>0.64</td>\n",
       "      <td>15.63</td>\n",
       "      <td>0.32</td>\n",
       "      <td>0.00</td>\n",
       "      <td>275.26</td>\n",
       "      <td>breakfast</td>\n",
       "    </tr>\n",
       "  </tbody>\n",
       "</table>\n",
       "</div>"
      ],
      "text/plain": [
       "                          item servesize  calories  protien  totalfat  satfat  \\\n",
       "42   Hot Cake with maple syrup       142    432.98     8.60     14.02    7.11   \n",
       "36                Veg McMuffin       119    309.35    10.22     11.78    7.29   \n",
       "40  Sausage Mc Muffin with egg       157    290.42    22.46     15.94    8.08   \n",
       "41                Egg McMuffin       112    283.46    14.05     12.31    6.92   \n",
       "39           Sausage Mc Muffin       112    281.44    16.25     10.81    6.04   \n",
       "38          Spicy Egg McMuffin     123.2    278.27    11.49     11.81    3.43   \n",
       "37      Double Cheese McMuffin       100    273.78     9.58     12.82    8.84   \n",
       "43                  Hash Brown        64    140.29     1.93      7.32    3.42   \n",
       "\n",
       "    transfat  cholestrol  carbs  sugar  addedsugar  sodium       menu  \n",
       "42      0.32       28.14  68.01  25.72       13.50  615.74  breakfast  \n",
       "36      0.18       25.31  38.86   3.02        0.75  804.63  breakfast  \n",
       "40      0.22      264.80  28.87   2.61        0.75  804.04  breakfast  \n",
       "41      0.17      233.30  28.12   2.38        0.75  519.31  breakfast  \n",
       "39      0.17       53.02  28.62   2.38        0.75  742.60  breakfast  \n",
       "38      0.11      212.61  31.37   2.63        1.05  773.60  breakfast  \n",
       "37      0.21       37.75  29.00   2.59        0.75  622.95  breakfast  \n",
       "43      0.06        0.64  15.63   0.32        0.00  275.26  breakfast  "
      ]
     },
     "execution_count": 17,
     "metadata": {},
     "output_type": "execute_result"
    }
   ],
   "source": [
    "#filtro por los desayunos y ordeno de mayor a menor\n",
    "df[df['menu'] == 'breakfast'].sort_values('calories', ascending=False)"
   ]
  },
  {
   "cell_type": "code",
   "execution_count": 20,
   "metadata": {},
   "outputs": [
    {
     "data": {
      "text/html": [
       "<div>\n",
       "<style scoped>\n",
       "    .dataframe tbody tr th:only-of-type {\n",
       "        vertical-align: middle;\n",
       "    }\n",
       "\n",
       "    .dataframe tbody tr th {\n",
       "        vertical-align: top;\n",
       "    }\n",
       "\n",
       "    .dataframe thead th {\n",
       "        text-align: right;\n",
       "    }\n",
       "</style>\n",
       "<table border=\"1\" class=\"dataframe\">\n",
       "  <thead>\n",
       "    <tr style=\"text-align: right;\">\n",
       "      <th></th>\n",
       "      <th>item</th>\n",
       "      <th>servesize</th>\n",
       "      <th>calories</th>\n",
       "      <th>protien</th>\n",
       "      <th>totalfat</th>\n",
       "      <th>satfat</th>\n",
       "      <th>transfat</th>\n",
       "      <th>cholestrol</th>\n",
       "      <th>carbs</th>\n",
       "      <th>sugar</th>\n",
       "      <th>addedsugar</th>\n",
       "      <th>sodium</th>\n",
       "      <th>menu</th>\n",
       "    </tr>\n",
       "  </thead>\n",
       "  <tbody>\n",
       "    <tr>\n",
       "      <th>5</th>\n",
       "      <td>Veg Maharaja Mac</td>\n",
       "      <td>306</td>\n",
       "      <td>832.00</td>\n",
       "      <td>24.17</td>\n",
       "      <td>37.94</td>\n",
       "      <td>16.83</td>\n",
       "      <td>0.28</td>\n",
       "      <td>36.19</td>\n",
       "      <td>93.84</td>\n",
       "      <td>11.52</td>\n",
       "      <td>6.92</td>\n",
       "      <td>1529.22</td>\n",
       "      <td>regular</td>\n",
       "    </tr>\n",
       "    <tr>\n",
       "      <th>18</th>\n",
       "      <td>Ghee Rice with Mc Spicy Fried Chicken 1 pc</td>\n",
       "      <td>325</td>\n",
       "      <td>720.00</td>\n",
       "      <td>26.91</td>\n",
       "      <td>29.20</td>\n",
       "      <td>5.08</td>\n",
       "      <td>0.30</td>\n",
       "      <td>31.32</td>\n",
       "      <td>77.47</td>\n",
       "      <td>0.58</td>\n",
       "      <td>0.35</td>\n",
       "      <td>2399.49</td>\n",
       "      <td>regular</td>\n",
       "    </tr>\n",
       "    <tr>\n",
       "      <th>12</th>\n",
       "      <td>Chicken Maharaja Mac</td>\n",
       "      <td>296</td>\n",
       "      <td>689.00</td>\n",
       "      <td>34.00</td>\n",
       "      <td>36.69</td>\n",
       "      <td>10.33</td>\n",
       "      <td>0.25</td>\n",
       "      <td>81.49</td>\n",
       "      <td>55.39</td>\n",
       "      <td>7.48</td>\n",
       "      <td>6.14</td>\n",
       "      <td>1854.71</td>\n",
       "      <td>regular</td>\n",
       "    </tr>\n",
       "    <tr>\n",
       "      <th>3</th>\n",
       "      <td>Spicy Paneer Wrap</td>\n",
       "      <td>250</td>\n",
       "      <td>674.00</td>\n",
       "      <td>20.96</td>\n",
       "      <td>39.10</td>\n",
       "      <td>19.73</td>\n",
       "      <td>0.26</td>\n",
       "      <td>40.93</td>\n",
       "      <td>59.27</td>\n",
       "      <td>3.50</td>\n",
       "      <td>1.08</td>\n",
       "      <td>1087.46</td>\n",
       "      <td>regular</td>\n",
       "    </tr>\n",
       "    <tr>\n",
       "      <th>2</th>\n",
       "      <td>McSpicy Paneer Burger</td>\n",
       "      <td>199</td>\n",
       "      <td>652.00</td>\n",
       "      <td>20.29</td>\n",
       "      <td>39.45</td>\n",
       "      <td>17.12</td>\n",
       "      <td>0.18</td>\n",
       "      <td>21.85</td>\n",
       "      <td>52.33</td>\n",
       "      <td>8.35</td>\n",
       "      <td>5.27</td>\n",
       "      <td>1074.58</td>\n",
       "      <td>regular</td>\n",
       "    </tr>\n",
       "    <tr>\n",
       "      <th>11</th>\n",
       "      <td>Spicy Chicken Wrap</td>\n",
       "      <td>257</td>\n",
       "      <td>567.00</td>\n",
       "      <td>23.74</td>\n",
       "      <td>26.89</td>\n",
       "      <td>12.54</td>\n",
       "      <td>0.27</td>\n",
       "      <td>87.63</td>\n",
       "      <td>57.06</td>\n",
       "      <td>8.92</td>\n",
       "      <td>1.08</td>\n",
       "      <td>1152.38</td>\n",
       "      <td>regular</td>\n",
       "    </tr>\n",
       "    <tr>\n",
       "      <th>4</th>\n",
       "      <td>American Veg Burger</td>\n",
       "      <td>177</td>\n",
       "      <td>512.00</td>\n",
       "      <td>15.30</td>\n",
       "      <td>23.45</td>\n",
       "      <td>10.51</td>\n",
       "      <td>0.17</td>\n",
       "      <td>25.24</td>\n",
       "      <td>56.96</td>\n",
       "      <td>7.85</td>\n",
       "      <td>4.76</td>\n",
       "      <td>1051.24</td>\n",
       "      <td>regular</td>\n",
       "    </tr>\n",
       "    <tr>\n",
       "      <th>10</th>\n",
       "      <td>Mc Spicy Chicken Burger</td>\n",
       "      <td>186</td>\n",
       "      <td>451.00</td>\n",
       "      <td>21.46</td>\n",
       "      <td>19.36</td>\n",
       "      <td>7.63</td>\n",
       "      <td>0.18</td>\n",
       "      <td>66.04</td>\n",
       "      <td>46.08</td>\n",
       "      <td>2.52</td>\n",
       "      <td>4.49</td>\n",
       "      <td>928.52</td>\n",
       "      <td>regular</td>\n",
       "    </tr>\n",
       "    <tr>\n",
       "      <th>28</th>\n",
       "      <td>Large Fries</td>\n",
       "      <td>154</td>\n",
       "      <td>449.00</td>\n",
       "      <td>6.76</td>\n",
       "      <td>20.77</td>\n",
       "      <td>9.95</td>\n",
       "      <td>0.10</td>\n",
       "      <td>1.54</td>\n",
       "      <td>54.16</td>\n",
       "      <td>0.77</td>\n",
       "      <td>0.00</td>\n",
       "      <td>306.29</td>\n",
       "      <td>regular</td>\n",
       "    </tr>\n",
       "    <tr>\n",
       "      <th>13</th>\n",
       "      <td>American Chicken Burger</td>\n",
       "      <td>165</td>\n",
       "      <td>446.00</td>\n",
       "      <td>20.29</td>\n",
       "      <td>22.94</td>\n",
       "      <td>7.28</td>\n",
       "      <td>0.15</td>\n",
       "      <td>47.63</td>\n",
       "      <td>38.54</td>\n",
       "      <td>5.08</td>\n",
       "      <td>4.76</td>\n",
       "      <td>1132.30</td>\n",
       "      <td>regular</td>\n",
       "    </tr>\n",
       "    <tr>\n",
       "      <th>25</th>\n",
       "      <td>5 piece Chicken Strips</td>\n",
       "      <td>145</td>\n",
       "      <td>411.00</td>\n",
       "      <td>25.43</td>\n",
       "      <td>28.54</td>\n",
       "      <td>0.15</td>\n",
       "      <td>0.08</td>\n",
       "      <td>6.70</td>\n",
       "      <td>0.73</td>\n",
       "      <td>0.55</td>\n",
       "      <td>0.00</td>\n",
       "      <td>1193.05</td>\n",
       "      <td>regular</td>\n",
       "    </tr>\n",
       "    <tr>\n",
       "      <th>0</th>\n",
       "      <td>McVeggie Burger</td>\n",
       "      <td>168</td>\n",
       "      <td>402.00</td>\n",
       "      <td>10.24</td>\n",
       "      <td>13.83</td>\n",
       "      <td>5.34</td>\n",
       "      <td>0.16</td>\n",
       "      <td>2.49</td>\n",
       "      <td>56.54</td>\n",
       "      <td>7.90</td>\n",
       "      <td>4.49</td>\n",
       "      <td>706.13</td>\n",
       "      <td>regular</td>\n",
       "    </tr>\n",
       "    <tr>\n",
       "      <th>8</th>\n",
       "      <td>Mc chicken Burger</td>\n",
       "      <td>173</td>\n",
       "      <td>400.00</td>\n",
       "      <td>15.66</td>\n",
       "      <td>15.70</td>\n",
       "      <td>5.47</td>\n",
       "      <td>0.16</td>\n",
       "      <td>31.17</td>\n",
       "      <td>47.98</td>\n",
       "      <td>5.53</td>\n",
       "      <td>4.49</td>\n",
       "      <td>766.33</td>\n",
       "      <td>regular</td>\n",
       "    </tr>\n",
       "    <tr>\n",
       "      <th>31</th>\n",
       "      <td>Large Wedges</td>\n",
       "      <td>216</td>\n",
       "      <td>387.00</td>\n",
       "      <td>7.53</td>\n",
       "      <td>13.55</td>\n",
       "      <td>6.43</td>\n",
       "      <td>0.00</td>\n",
       "      <td>1.84</td>\n",
       "      <td>54.46</td>\n",
       "      <td>0.92</td>\n",
       "      <td>0.00</td>\n",
       "      <td>675.35</td>\n",
       "      <td>regular</td>\n",
       "    </tr>\n",
       "    <tr>\n",
       "      <th>22</th>\n",
       "      <td>9 piece Chicken McNuggets</td>\n",
       "      <td>144</td>\n",
       "      <td>381.00</td>\n",
       "      <td>22.56</td>\n",
       "      <td>21.46</td>\n",
       "      <td>10.02</td>\n",
       "      <td>0.06</td>\n",
       "      <td>55.48</td>\n",
       "      <td>23.62</td>\n",
       "      <td>0.44</td>\n",
       "      <td>0.00</td>\n",
       "      <td>704.81</td>\n",
       "      <td>regular</td>\n",
       "    </tr>\n",
       "    <tr>\n",
       "      <th>14</th>\n",
       "      <td>Chicken Kebab Burger</td>\n",
       "      <td>138</td>\n",
       "      <td>357.00</td>\n",
       "      <td>8.64</td>\n",
       "      <td>14.02</td>\n",
       "      <td>4.84</td>\n",
       "      <td>0.13</td>\n",
       "      <td>1.51</td>\n",
       "      <td>47.90</td>\n",
       "      <td>3.64</td>\n",
       "      <td>3.49</td>\n",
       "      <td>548.79</td>\n",
       "      <td>regular</td>\n",
       "    </tr>\n",
       "    <tr>\n",
       "      <th>6</th>\n",
       "      <td>Green Chilli Aloo Naan p</td>\n",
       "      <td>132</td>\n",
       "      <td>356.00</td>\n",
       "      <td>7.91</td>\n",
       "      <td>15.08</td>\n",
       "      <td>6.11</td>\n",
       "      <td>0.24</td>\n",
       "      <td>9.45</td>\n",
       "      <td>46.36</td>\n",
       "      <td>4.53</td>\n",
       "      <td>1.15</td>\n",
       "      <td>579.60</td>\n",
       "      <td>regular</td>\n",
       "    </tr>\n",
       "    <tr>\n",
       "      <th>9</th>\n",
       "      <td>FILLET-O-FISH Burger</td>\n",
       "      <td>136</td>\n",
       "      <td>348.00</td>\n",
       "      <td>15.44</td>\n",
       "      <td>14.16</td>\n",
       "      <td>5.79</td>\n",
       "      <td>0.21</td>\n",
       "      <td>32.83</td>\n",
       "      <td>38.85</td>\n",
       "      <td>5.88</td>\n",
       "      <td>3.54</td>\n",
       "      <td>530.54</td>\n",
       "      <td>regular</td>\n",
       "    </tr>\n",
       "    <tr>\n",
       "      <th>34</th>\n",
       "      <td>Double Chocochips Muffin</td>\n",
       "      <td>80</td>\n",
       "      <td>342.00</td>\n",
       "      <td>5.13</td>\n",
       "      <td>17.28</td>\n",
       "      <td>7.14</td>\n",
       "      <td>0.08</td>\n",
       "      <td>15.96</td>\n",
       "      <td>40.13</td>\n",
       "      <td>29.44</td>\n",
       "      <td>0.00</td>\n",
       "      <td>313.21</td>\n",
       "      <td>regular</td>\n",
       "    </tr>\n",
       "    <tr>\n",
       "      <th>1</th>\n",
       "      <td>McAloo Tikki Burger</td>\n",
       "      <td>146</td>\n",
       "      <td>339.00</td>\n",
       "      <td>8.50</td>\n",
       "      <td>11.31</td>\n",
       "      <td>4.27</td>\n",
       "      <td>0.20</td>\n",
       "      <td>1.47</td>\n",
       "      <td>5.27</td>\n",
       "      <td>7.05</td>\n",
       "      <td>4.07</td>\n",
       "      <td>545.34</td>\n",
       "      <td>regular</td>\n",
       "    </tr>\n",
       "    <tr>\n",
       "      <th>35</th>\n",
       "      <td>Vanilla Chocochips Muffin</td>\n",
       "      <td>80</td>\n",
       "      <td>329.00</td>\n",
       "      <td>4.48</td>\n",
       "      <td>15.46</td>\n",
       "      <td>7.14</td>\n",
       "      <td>0.08</td>\n",
       "      <td>78.52</td>\n",
       "      <td>40.13</td>\n",
       "      <td>29.60</td>\n",
       "      <td>0.00</td>\n",
       "      <td>154.92</td>\n",
       "      <td>regular</td>\n",
       "    </tr>\n",
       "    <tr>\n",
       "      <th>27</th>\n",
       "      <td>Medium Fries</td>\n",
       "      <td>109</td>\n",
       "      <td>317.00</td>\n",
       "      <td>4.79</td>\n",
       "      <td>14.70</td>\n",
       "      <td>7.04</td>\n",
       "      <td>0.15</td>\n",
       "      <td>1.09</td>\n",
       "      <td>38.34</td>\n",
       "      <td>0.48</td>\n",
       "      <td>0.00</td>\n",
       "      <td>216.79</td>\n",
       "      <td>regular</td>\n",
       "    </tr>\n",
       "    <tr>\n",
       "      <th>16</th>\n",
       "      <td>Mc Egg Masala Burger</td>\n",
       "      <td>126.2</td>\n",
       "      <td>290.00</td>\n",
       "      <td>12.45</td>\n",
       "      <td>12.27</td>\n",
       "      <td>3.64</td>\n",
       "      <td>0.11</td>\n",
       "      <td>213.09</td>\n",
       "      <td>32.89</td>\n",
       "      <td>4.66</td>\n",
       "      <td>3.64</td>\n",
       "      <td>757.91</td>\n",
       "      <td>regular</td>\n",
       "    </tr>\n",
       "    <tr>\n",
       "      <th>17</th>\n",
       "      <td>Mc Egg Burger for Happy Meal</td>\n",
       "      <td>123</td>\n",
       "      <td>282.00</td>\n",
       "      <td>12.29</td>\n",
       "      <td>12.21</td>\n",
       "      <td>3.63</td>\n",
       "      <td>0.11</td>\n",
       "      <td>213.09</td>\n",
       "      <td>31.32</td>\n",
       "      <td>3.28</td>\n",
       "      <td>3.64</td>\n",
       "      <td>399.41</td>\n",
       "      <td>regular</td>\n",
       "    </tr>\n",
       "    <tr>\n",
       "      <th>30</th>\n",
       "      <td>Medium Wedges</td>\n",
       "      <td>156</td>\n",
       "      <td>280.00</td>\n",
       "      <td>5.44</td>\n",
       "      <td>9.79</td>\n",
       "      <td>4.64</td>\n",
       "      <td>0.18</td>\n",
       "      <td>1.33</td>\n",
       "      <td>39.33</td>\n",
       "      <td>0.66</td>\n",
       "      <td>0.00</td>\n",
       "      <td>487.76</td>\n",
       "      <td>regular</td>\n",
       "    </tr>\n",
       "    <tr>\n",
       "      <th>21</th>\n",
       "      <td>6 piece Chicken McNuggets</td>\n",
       "      <td>96</td>\n",
       "      <td>254.00</td>\n",
       "      <td>15.04</td>\n",
       "      <td>14.30</td>\n",
       "      <td>6.68</td>\n",
       "      <td>0.14</td>\n",
       "      <td>36.99</td>\n",
       "      <td>15.74</td>\n",
       "      <td>0.29</td>\n",
       "      <td>0.00</td>\n",
       "      <td>469.87</td>\n",
       "      <td>regular</td>\n",
       "    </tr>\n",
       "    <tr>\n",
       "      <th>19</th>\n",
       "      <td>McSpicy Fried Chicken 1 pc</td>\n",
       "      <td>115</td>\n",
       "      <td>248.00</td>\n",
       "      <td>17.33</td>\n",
       "      <td>14.29</td>\n",
       "      <td>2.82</td>\n",
       "      <td>0.06</td>\n",
       "      <td>31.11</td>\n",
       "      <td>12.70</td>\n",
       "      <td>0.32</td>\n",
       "      <td>0.00</td>\n",
       "      <td>873.89</td>\n",
       "      <td>regular</td>\n",
       "    </tr>\n",
       "    <tr>\n",
       "      <th>24</th>\n",
       "      <td>3 piece Chicken Strips</td>\n",
       "      <td>87</td>\n",
       "      <td>246.00</td>\n",
       "      <td>15.26</td>\n",
       "      <td>18.57</td>\n",
       "      <td>17.12</td>\n",
       "      <td>75.26</td>\n",
       "      <td>45.15</td>\n",
       "      <td>4.02</td>\n",
       "      <td>0.39</td>\n",
       "      <td>0.00</td>\n",
       "      <td>715.83</td>\n",
       "      <td>regular</td>\n",
       "    </tr>\n",
       "    <tr>\n",
       "      <th>15</th>\n",
       "      <td>Green Chilli Kebab naan</td>\n",
       "      <td>138</td>\n",
       "      <td>230.00</td>\n",
       "      <td>5.67</td>\n",
       "      <td>9.32</td>\n",
       "      <td>3.27</td>\n",
       "      <td>0.19</td>\n",
       "      <td>8.74</td>\n",
       "      <td>31.06</td>\n",
       "      <td>4.89</td>\n",
       "      <td>1.15</td>\n",
       "      <td>410.78</td>\n",
       "      <td>regular</td>\n",
       "    </tr>\n",
       "    <tr>\n",
       "      <th>7</th>\n",
       "      <td>Pizza Puff</td>\n",
       "      <td>87</td>\n",
       "      <td>228.00</td>\n",
       "      <td>5.45</td>\n",
       "      <td>11.44</td>\n",
       "      <td>5.72</td>\n",
       "      <td>0.09</td>\n",
       "      <td>5.17</td>\n",
       "      <td>24.79</td>\n",
       "      <td>2.73</td>\n",
       "      <td>0.35</td>\n",
       "      <td>390.74</td>\n",
       "      <td>regular</td>\n",
       "    </tr>\n",
       "    <tr>\n",
       "      <th>26</th>\n",
       "      <td>Regular Fries</td>\n",
       "      <td>77</td>\n",
       "      <td>224.00</td>\n",
       "      <td>3.38</td>\n",
       "      <td>10.39</td>\n",
       "      <td>4.97</td>\n",
       "      <td>0.11</td>\n",
       "      <td>0.77</td>\n",
       "      <td>27.08</td>\n",
       "      <td>0.77</td>\n",
       "      <td>0.00</td>\n",
       "      <td>153.15</td>\n",
       "      <td>regular</td>\n",
       "    </tr>\n",
       "    <tr>\n",
       "      <th>29</th>\n",
       "      <td>Regular Wedges</td>\n",
       "      <td>114</td>\n",
       "      <td>204.00</td>\n",
       "      <td>3.97</td>\n",
       "      <td>7.15</td>\n",
       "      <td>3.39</td>\n",
       "      <td>0.13</td>\n",
       "      <td>0.97</td>\n",
       "      <td>28.74</td>\n",
       "      <td>0.48</td>\n",
       "      <td>0.00</td>\n",
       "      <td>356.44</td>\n",
       "      <td>regular</td>\n",
       "    </tr>\n",
       "    <tr>\n",
       "      <th>20</th>\n",
       "      <td>4 piece Chicken McNuggets</td>\n",
       "      <td>64</td>\n",
       "      <td>169.00</td>\n",
       "      <td>10.03</td>\n",
       "      <td>9.54</td>\n",
       "      <td>4.45</td>\n",
       "      <td>0.10</td>\n",
       "      <td>24.66</td>\n",
       "      <td>10.50</td>\n",
       "      <td>0.72</td>\n",
       "      <td>0.00</td>\n",
       "      <td>313.25</td>\n",
       "      <td>regular</td>\n",
       "    </tr>\n",
       "    <tr>\n",
       "      <th>23</th>\n",
       "      <td>2 piece Chicken Strips</td>\n",
       "      <td>58</td>\n",
       "      <td>164.00</td>\n",
       "      <td>10.17</td>\n",
       "      <td>12.38</td>\n",
       "      <td>11.41</td>\n",
       "      <td>0.09</td>\n",
       "      <td>30.10</td>\n",
       "      <td>2.68</td>\n",
       "      <td>0.72</td>\n",
       "      <td>0.00</td>\n",
       "      <td>477.22</td>\n",
       "      <td>regular</td>\n",
       "    </tr>\n",
       "    <tr>\n",
       "      <th>33</th>\n",
       "      <td>L1 Coffee with milk</td>\n",
       "      <td>205</td>\n",
       "      <td>36.00</td>\n",
       "      <td>1.00</td>\n",
       "      <td>2.00</td>\n",
       "      <td>1.20</td>\n",
       "      <td>0.08</td>\n",
       "      <td>6.00</td>\n",
       "      <td>1.60</td>\n",
       "      <td>3.45</td>\n",
       "      <td>0.00</td>\n",
       "      <td>14.00</td>\n",
       "      <td>regular</td>\n",
       "    </tr>\n",
       "    <tr>\n",
       "      <th>32</th>\n",
       "      <td>L1 Coffee</td>\n",
       "      <td>200</td>\n",
       "      <td>7.00</td>\n",
       "      <td>0.00</td>\n",
       "      <td>0.00</td>\n",
       "      <td>0.00</td>\n",
       "      <td>0.08</td>\n",
       "      <td>0.00</td>\n",
       "      <td>1.70</td>\n",
       "      <td>0.00</td>\n",
       "      <td>0.00</td>\n",
       "      <td>0.00</td>\n",
       "      <td>regular</td>\n",
       "    </tr>\n",
       "  </tbody>\n",
       "</table>\n",
       "</div>"
      ],
      "text/plain": [
       "                                          item servesize  calories  protien  \\\n",
       "5                            Veg Maharaja Mac        306    832.00    24.17   \n",
       "18  Ghee Rice with Mc Spicy Fried Chicken 1 pc       325    720.00    26.91   \n",
       "12                       Chicken Maharaja Mac      296      689.00    34.00   \n",
       "3                            Spicy Paneer Wrap      250     674.00    20.96   \n",
       "2                       McSpicy Paneer Burger      199     652.00    20.29   \n",
       "11                         Spicy Chicken Wrap       257     567.00    23.74   \n",
       "4                          American Veg Burger      177     512.00    15.30   \n",
       "10                    Mc Spicy Chicken Burger       186     451.00    21.46   \n",
       "28                                Large Fries       154     449.00     6.76   \n",
       "13                    American Chicken Burger      165      446.00    20.29   \n",
       "25                     5 piece Chicken Strips       145     411.00    25.43   \n",
       "0                              McVeggie Burger      168     402.00    10.24   \n",
       "8                           Mc chicken Burger       173     400.00    15.66   \n",
       "31                                Large Wedges       216    387.00     7.53   \n",
       "22                  9 piece Chicken McNuggets       144     381.00    22.56   \n",
       "14                       Chicken Kebab Burger      138      357.00     8.64   \n",
       "6                     Green Chilli Aloo Naan p     132      356.00     7.91   \n",
       "9                        FILLET-O-FISH Burger       136     348.00    15.44   \n",
       "34                   Double Chocochips Muffin         80    342.00     5.13   \n",
       "1                          McAloo Tikki Burger      146     339.00     8.50   \n",
       "35                   Vanilla Chocochips Muffin        80    329.00     4.48   \n",
       "27                                Medium Fries      109     317.00     4.79   \n",
       "16                        Mc Egg Masala Burger    126.2     290.00    12.45   \n",
       "17                Mc Egg Burger for Happy Meal       123    282.00    12.29   \n",
       "30                              Medium Wedges        156    280.00     5.44   \n",
       "21                  6 piece Chicken McNuggets         96    254.00    15.04   \n",
       "19                  McSpicy Fried Chicken 1 pc       115    248.00    17.33   \n",
       "24                     3 piece Chicken Strips        87     246.00    15.26   \n",
       "15                     Green Chilli Kebab naan       138    230.00     5.67   \n",
       "7                                  Pizza Puff        87     228.00     5.45   \n",
       "26                              Regular Fries        77     224.00     3.38   \n",
       "29                              Regular Wedges      114     204.00     3.97   \n",
       "20                  4 piece Chicken McNuggets         64    169.00    10.03   \n",
       "23                     2 piece Chicken Strips        58     164.00    10.17   \n",
       "33                        L1 Coffee with milk        205     36.00     1.00   \n",
       "32                                  L1 Coffee        200      7.00     0.00   \n",
       "\n",
       "    totalfat  satfat  transfat  cholestrol  carbs  sugar  addedsugar  sodium  \\\n",
       "5      37.94   16.83      0.28       36.19  93.84  11.52        6.92 1529.22   \n",
       "18     29.20    5.08      0.30       31.32  77.47   0.58        0.35 2399.49   \n",
       "12     36.69   10.33      0.25       81.49  55.39   7.48        6.14 1854.71   \n",
       "3      39.10   19.73      0.26       40.93  59.27   3.50        1.08 1087.46   \n",
       "2      39.45   17.12      0.18       21.85  52.33   8.35        5.27 1074.58   \n",
       "11     26.89   12.54      0.27       87.63  57.06   8.92        1.08 1152.38   \n",
       "4      23.45   10.51      0.17       25.24  56.96   7.85        4.76 1051.24   \n",
       "10     19.36    7.63      0.18       66.04  46.08   2.52        4.49  928.52   \n",
       "28     20.77    9.95      0.10        1.54  54.16   0.77        0.00  306.29   \n",
       "13     22.94    7.28      0.15       47.63  38.54   5.08        4.76 1132.30   \n",
       "25     28.54    0.15      0.08        6.70   0.73   0.55        0.00 1193.05   \n",
       "0      13.83    5.34      0.16        2.49  56.54   7.90        4.49  706.13   \n",
       "8      15.70    5.47      0.16       31.17  47.98   5.53        4.49  766.33   \n",
       "31     13.55    6.43      0.00        1.84  54.46   0.92        0.00  675.35   \n",
       "22     21.46   10.02      0.06       55.48  23.62   0.44        0.00  704.81   \n",
       "14     14.02    4.84      0.13        1.51  47.90   3.64        3.49  548.79   \n",
       "6      15.08    6.11      0.24        9.45  46.36   4.53        1.15  579.60   \n",
       "9      14.16    5.79      0.21       32.83  38.85   5.88        3.54  530.54   \n",
       "34     17.28    7.14      0.08       15.96  40.13  29.44        0.00  313.21   \n",
       "1      11.31    4.27      0.20        1.47   5.27   7.05        4.07  545.34   \n",
       "35     15.46    7.14      0.08       78.52  40.13  29.60        0.00  154.92   \n",
       "27     14.70    7.04      0.15        1.09  38.34   0.48        0.00  216.79   \n",
       "16     12.27    3.64      0.11      213.09  32.89   4.66        3.64  757.91   \n",
       "17     12.21    3.63      0.11      213.09  31.32   3.28        3.64  399.41   \n",
       "30      9.79    4.64      0.18        1.33  39.33   0.66        0.00  487.76   \n",
       "21     14.30    6.68      0.14       36.99  15.74   0.29        0.00  469.87   \n",
       "19     14.29    2.82      0.06       31.11  12.70   0.32        0.00  873.89   \n",
       "24     18.57   17.12     75.26       45.15   4.02   0.39        0.00  715.83   \n",
       "15      9.32    3.27      0.19        8.74  31.06   4.89        1.15  410.78   \n",
       "7      11.44    5.72      0.09        5.17  24.79   2.73        0.35  390.74   \n",
       "26     10.39    4.97      0.11        0.77  27.08   0.77        0.00  153.15   \n",
       "29      7.15    3.39      0.13        0.97  28.74   0.48        0.00  356.44   \n",
       "20      9.54    4.45      0.10       24.66  10.50   0.72        0.00  313.25   \n",
       "23     12.38   11.41      0.09       30.10   2.68   0.72        0.00  477.22   \n",
       "33      2.00    1.20      0.08        6.00   1.60   3.45        0.00   14.00   \n",
       "32      0.00    0.00      0.08        0.00   1.70   0.00        0.00    0.00   \n",
       "\n",
       "       menu  \n",
       "5   regular  \n",
       "18  regular  \n",
       "12  regular  \n",
       "3   regular  \n",
       "2   regular  \n",
       "11  regular  \n",
       "4   regular  \n",
       "10  regular  \n",
       "28  regular  \n",
       "13  regular  \n",
       "25  regular  \n",
       "0   regular  \n",
       "8   regular  \n",
       "31  regular  \n",
       "22  regular  \n",
       "14  regular  \n",
       "6   regular  \n",
       "9   regular  \n",
       "34  regular  \n",
       "1   regular  \n",
       "35  regular  \n",
       "27  regular  \n",
       "16  regular  \n",
       "17  regular  \n",
       "30  regular  \n",
       "21  regular  \n",
       "19  regular  \n",
       "24  regular  \n",
       "15  regular  \n",
       "7   regular  \n",
       "26  regular  \n",
       "29  regular  \n",
       "20  regular  \n",
       "23  regular  \n",
       "33  regular  \n",
       "32  regular  "
      ]
     },
     "execution_count": 20,
     "metadata": {},
     "output_type": "execute_result"
    }
   ],
   "source": [
    "regular = df[df['menu'] == 'regular'].sort_values('calories', ascending=False)\n",
    "regular"
   ]
  },
  {
   "cell_type": "code",
   "execution_count": 19,
   "metadata": {},
   "outputs": [
    {
     "data": {
      "application/vnd.plotly.v1+json": {
       "config": {
        "plotlyServerURL": "https://plot.ly"
       },
       "data": [
        {
         "alignmentgroup": "True",
         "hovertemplate": "calories=%{y}<extra></extra>",
         "legendgroup": "",
         "marker": {
          "color": "#636efa"
         },
         "name": "",
         "notched": false,
         "offsetgroup": "",
         "orientation": "v",
         "showlegend": false,
         "type": "box",
         "x0": " ",
         "xaxis": "x",
         "y": [
          832,
          720,
          689,
          674,
          652,
          567,
          512,
          451,
          449,
          446,
          411,
          402,
          400,
          387,
          381,
          357,
          356,
          348,
          342,
          339,
          329,
          317,
          290,
          282,
          280,
          254,
          248,
          246,
          230,
          228,
          224,
          204,
          169,
          164,
          36,
          7
         ],
         "y0": " ",
         "yaxis": "y"
        }
       ],
       "layout": {
        "boxmode": "group",
        "legend": {
         "tracegroupgap": 0
        },
        "margin": {
         "t": 60
        },
        "template": {
         "data": {
          "bar": [
           {
            "error_x": {
             "color": "#2a3f5f"
            },
            "error_y": {
             "color": "#2a3f5f"
            },
            "marker": {
             "line": {
              "color": "#E5ECF6",
              "width": 0.5
             },
             "pattern": {
              "fillmode": "overlay",
              "size": 10,
              "solidity": 0.2
             }
            },
            "type": "bar"
           }
          ],
          "barpolar": [
           {
            "marker": {
             "line": {
              "color": "#E5ECF6",
              "width": 0.5
             },
             "pattern": {
              "fillmode": "overlay",
              "size": 10,
              "solidity": 0.2
             }
            },
            "type": "barpolar"
           }
          ],
          "carpet": [
           {
            "aaxis": {
             "endlinecolor": "#2a3f5f",
             "gridcolor": "white",
             "linecolor": "white",
             "minorgridcolor": "white",
             "startlinecolor": "#2a3f5f"
            },
            "baxis": {
             "endlinecolor": "#2a3f5f",
             "gridcolor": "white",
             "linecolor": "white",
             "minorgridcolor": "white",
             "startlinecolor": "#2a3f5f"
            },
            "type": "carpet"
           }
          ],
          "choropleth": [
           {
            "colorbar": {
             "outlinewidth": 0,
             "ticks": ""
            },
            "type": "choropleth"
           }
          ],
          "contour": [
           {
            "colorbar": {
             "outlinewidth": 0,
             "ticks": ""
            },
            "colorscale": [
             [
              0,
              "#0d0887"
             ],
             [
              0.1111111111111111,
              "#46039f"
             ],
             [
              0.2222222222222222,
              "#7201a8"
             ],
             [
              0.3333333333333333,
              "#9c179e"
             ],
             [
              0.4444444444444444,
              "#bd3786"
             ],
             [
              0.5555555555555556,
              "#d8576b"
             ],
             [
              0.6666666666666666,
              "#ed7953"
             ],
             [
              0.7777777777777778,
              "#fb9f3a"
             ],
             [
              0.8888888888888888,
              "#fdca26"
             ],
             [
              1,
              "#f0f921"
             ]
            ],
            "type": "contour"
           }
          ],
          "contourcarpet": [
           {
            "colorbar": {
             "outlinewidth": 0,
             "ticks": ""
            },
            "type": "contourcarpet"
           }
          ],
          "heatmap": [
           {
            "colorbar": {
             "outlinewidth": 0,
             "ticks": ""
            },
            "colorscale": [
             [
              0,
              "#0d0887"
             ],
             [
              0.1111111111111111,
              "#46039f"
             ],
             [
              0.2222222222222222,
              "#7201a8"
             ],
             [
              0.3333333333333333,
              "#9c179e"
             ],
             [
              0.4444444444444444,
              "#bd3786"
             ],
             [
              0.5555555555555556,
              "#d8576b"
             ],
             [
              0.6666666666666666,
              "#ed7953"
             ],
             [
              0.7777777777777778,
              "#fb9f3a"
             ],
             [
              0.8888888888888888,
              "#fdca26"
             ],
             [
              1,
              "#f0f921"
             ]
            ],
            "type": "heatmap"
           }
          ],
          "heatmapgl": [
           {
            "colorbar": {
             "outlinewidth": 0,
             "ticks": ""
            },
            "colorscale": [
             [
              0,
              "#0d0887"
             ],
             [
              0.1111111111111111,
              "#46039f"
             ],
             [
              0.2222222222222222,
              "#7201a8"
             ],
             [
              0.3333333333333333,
              "#9c179e"
             ],
             [
              0.4444444444444444,
              "#bd3786"
             ],
             [
              0.5555555555555556,
              "#d8576b"
             ],
             [
              0.6666666666666666,
              "#ed7953"
             ],
             [
              0.7777777777777778,
              "#fb9f3a"
             ],
             [
              0.8888888888888888,
              "#fdca26"
             ],
             [
              1,
              "#f0f921"
             ]
            ],
            "type": "heatmapgl"
           }
          ],
          "histogram": [
           {
            "marker": {
             "pattern": {
              "fillmode": "overlay",
              "size": 10,
              "solidity": 0.2
             }
            },
            "type": "histogram"
           }
          ],
          "histogram2d": [
           {
            "colorbar": {
             "outlinewidth": 0,
             "ticks": ""
            },
            "colorscale": [
             [
              0,
              "#0d0887"
             ],
             [
              0.1111111111111111,
              "#46039f"
             ],
             [
              0.2222222222222222,
              "#7201a8"
             ],
             [
              0.3333333333333333,
              "#9c179e"
             ],
             [
              0.4444444444444444,
              "#bd3786"
             ],
             [
              0.5555555555555556,
              "#d8576b"
             ],
             [
              0.6666666666666666,
              "#ed7953"
             ],
             [
              0.7777777777777778,
              "#fb9f3a"
             ],
             [
              0.8888888888888888,
              "#fdca26"
             ],
             [
              1,
              "#f0f921"
             ]
            ],
            "type": "histogram2d"
           }
          ],
          "histogram2dcontour": [
           {
            "colorbar": {
             "outlinewidth": 0,
             "ticks": ""
            },
            "colorscale": [
             [
              0,
              "#0d0887"
             ],
             [
              0.1111111111111111,
              "#46039f"
             ],
             [
              0.2222222222222222,
              "#7201a8"
             ],
             [
              0.3333333333333333,
              "#9c179e"
             ],
             [
              0.4444444444444444,
              "#bd3786"
             ],
             [
              0.5555555555555556,
              "#d8576b"
             ],
             [
              0.6666666666666666,
              "#ed7953"
             ],
             [
              0.7777777777777778,
              "#fb9f3a"
             ],
             [
              0.8888888888888888,
              "#fdca26"
             ],
             [
              1,
              "#f0f921"
             ]
            ],
            "type": "histogram2dcontour"
           }
          ],
          "mesh3d": [
           {
            "colorbar": {
             "outlinewidth": 0,
             "ticks": ""
            },
            "type": "mesh3d"
           }
          ],
          "parcoords": [
           {
            "line": {
             "colorbar": {
              "outlinewidth": 0,
              "ticks": ""
             }
            },
            "type": "parcoords"
           }
          ],
          "pie": [
           {
            "automargin": true,
            "type": "pie"
           }
          ],
          "scatter": [
           {
            "fillpattern": {
             "fillmode": "overlay",
             "size": 10,
             "solidity": 0.2
            },
            "type": "scatter"
           }
          ],
          "scatter3d": [
           {
            "line": {
             "colorbar": {
              "outlinewidth": 0,
              "ticks": ""
             }
            },
            "marker": {
             "colorbar": {
              "outlinewidth": 0,
              "ticks": ""
             }
            },
            "type": "scatter3d"
           }
          ],
          "scattercarpet": [
           {
            "marker": {
             "colorbar": {
              "outlinewidth": 0,
              "ticks": ""
             }
            },
            "type": "scattercarpet"
           }
          ],
          "scattergeo": [
           {
            "marker": {
             "colorbar": {
              "outlinewidth": 0,
              "ticks": ""
             }
            },
            "type": "scattergeo"
           }
          ],
          "scattergl": [
           {
            "marker": {
             "colorbar": {
              "outlinewidth": 0,
              "ticks": ""
             }
            },
            "type": "scattergl"
           }
          ],
          "scattermapbox": [
           {
            "marker": {
             "colorbar": {
              "outlinewidth": 0,
              "ticks": ""
             }
            },
            "type": "scattermapbox"
           }
          ],
          "scatterpolar": [
           {
            "marker": {
             "colorbar": {
              "outlinewidth": 0,
              "ticks": ""
             }
            },
            "type": "scatterpolar"
           }
          ],
          "scatterpolargl": [
           {
            "marker": {
             "colorbar": {
              "outlinewidth": 0,
              "ticks": ""
             }
            },
            "type": "scatterpolargl"
           }
          ],
          "scatterternary": [
           {
            "marker": {
             "colorbar": {
              "outlinewidth": 0,
              "ticks": ""
             }
            },
            "type": "scatterternary"
           }
          ],
          "surface": [
           {
            "colorbar": {
             "outlinewidth": 0,
             "ticks": ""
            },
            "colorscale": [
             [
              0,
              "#0d0887"
             ],
             [
              0.1111111111111111,
              "#46039f"
             ],
             [
              0.2222222222222222,
              "#7201a8"
             ],
             [
              0.3333333333333333,
              "#9c179e"
             ],
             [
              0.4444444444444444,
              "#bd3786"
             ],
             [
              0.5555555555555556,
              "#d8576b"
             ],
             [
              0.6666666666666666,
              "#ed7953"
             ],
             [
              0.7777777777777778,
              "#fb9f3a"
             ],
             [
              0.8888888888888888,
              "#fdca26"
             ],
             [
              1,
              "#f0f921"
             ]
            ],
            "type": "surface"
           }
          ],
          "table": [
           {
            "cells": {
             "fill": {
              "color": "#EBF0F8"
             },
             "line": {
              "color": "white"
             }
            },
            "header": {
             "fill": {
              "color": "#C8D4E3"
             },
             "line": {
              "color": "white"
             }
            },
            "type": "table"
           }
          ]
         },
         "layout": {
          "annotationdefaults": {
           "arrowcolor": "#2a3f5f",
           "arrowhead": 0,
           "arrowwidth": 1
          },
          "autotypenumbers": "strict",
          "coloraxis": {
           "colorbar": {
            "outlinewidth": 0,
            "ticks": ""
           }
          },
          "colorscale": {
           "diverging": [
            [
             0,
             "#8e0152"
            ],
            [
             0.1,
             "#c51b7d"
            ],
            [
             0.2,
             "#de77ae"
            ],
            [
             0.3,
             "#f1b6da"
            ],
            [
             0.4,
             "#fde0ef"
            ],
            [
             0.5,
             "#f7f7f7"
            ],
            [
             0.6,
             "#e6f5d0"
            ],
            [
             0.7,
             "#b8e186"
            ],
            [
             0.8,
             "#7fbc41"
            ],
            [
             0.9,
             "#4d9221"
            ],
            [
             1,
             "#276419"
            ]
           ],
           "sequential": [
            [
             0,
             "#0d0887"
            ],
            [
             0.1111111111111111,
             "#46039f"
            ],
            [
             0.2222222222222222,
             "#7201a8"
            ],
            [
             0.3333333333333333,
             "#9c179e"
            ],
            [
             0.4444444444444444,
             "#bd3786"
            ],
            [
             0.5555555555555556,
             "#d8576b"
            ],
            [
             0.6666666666666666,
             "#ed7953"
            ],
            [
             0.7777777777777778,
             "#fb9f3a"
            ],
            [
             0.8888888888888888,
             "#fdca26"
            ],
            [
             1,
             "#f0f921"
            ]
           ],
           "sequentialminus": [
            [
             0,
             "#0d0887"
            ],
            [
             0.1111111111111111,
             "#46039f"
            ],
            [
             0.2222222222222222,
             "#7201a8"
            ],
            [
             0.3333333333333333,
             "#9c179e"
            ],
            [
             0.4444444444444444,
             "#bd3786"
            ],
            [
             0.5555555555555556,
             "#d8576b"
            ],
            [
             0.6666666666666666,
             "#ed7953"
            ],
            [
             0.7777777777777778,
             "#fb9f3a"
            ],
            [
             0.8888888888888888,
             "#fdca26"
            ],
            [
             1,
             "#f0f921"
            ]
           ]
          },
          "colorway": [
           "#636efa",
           "#EF553B",
           "#00cc96",
           "#ab63fa",
           "#FFA15A",
           "#19d3f3",
           "#FF6692",
           "#B6E880",
           "#FF97FF",
           "#FECB52"
          ],
          "font": {
           "color": "#2a3f5f"
          },
          "geo": {
           "bgcolor": "white",
           "lakecolor": "white",
           "landcolor": "#E5ECF6",
           "showlakes": true,
           "showland": true,
           "subunitcolor": "white"
          },
          "hoverlabel": {
           "align": "left"
          },
          "hovermode": "closest",
          "mapbox": {
           "style": "light"
          },
          "paper_bgcolor": "white",
          "plot_bgcolor": "#E5ECF6",
          "polar": {
           "angularaxis": {
            "gridcolor": "white",
            "linecolor": "white",
            "ticks": ""
           },
           "bgcolor": "#E5ECF6",
           "radialaxis": {
            "gridcolor": "white",
            "linecolor": "white",
            "ticks": ""
           }
          },
          "scene": {
           "xaxis": {
            "backgroundcolor": "#E5ECF6",
            "gridcolor": "white",
            "gridwidth": 2,
            "linecolor": "white",
            "showbackground": true,
            "ticks": "",
            "zerolinecolor": "white"
           },
           "yaxis": {
            "backgroundcolor": "#E5ECF6",
            "gridcolor": "white",
            "gridwidth": 2,
            "linecolor": "white",
            "showbackground": true,
            "ticks": "",
            "zerolinecolor": "white"
           },
           "zaxis": {
            "backgroundcolor": "#E5ECF6",
            "gridcolor": "white",
            "gridwidth": 2,
            "linecolor": "white",
            "showbackground": true,
            "ticks": "",
            "zerolinecolor": "white"
           }
          },
          "shapedefaults": {
           "line": {
            "color": "#2a3f5f"
           }
          },
          "ternary": {
           "aaxis": {
            "gridcolor": "white",
            "linecolor": "white",
            "ticks": ""
           },
           "baxis": {
            "gridcolor": "white",
            "linecolor": "white",
            "ticks": ""
           },
           "bgcolor": "#E5ECF6",
           "caxis": {
            "gridcolor": "white",
            "linecolor": "white",
            "ticks": ""
           }
          },
          "title": {
           "x": 0.05
          },
          "xaxis": {
           "automargin": true,
           "gridcolor": "white",
           "linecolor": "white",
           "ticks": "",
           "title": {
            "standoff": 15
           },
           "zerolinecolor": "white",
           "zerolinewidth": 2
          },
          "yaxis": {
           "automargin": true,
           "gridcolor": "white",
           "linecolor": "white",
           "ticks": "",
           "title": {
            "standoff": 15
           },
           "zerolinecolor": "white",
           "zerolinewidth": 2
          }
         }
        },
        "xaxis": {
         "anchor": "y",
         "domain": [
          0,
          1
         ]
        },
        "yaxis": {
         "anchor": "x",
         "domain": [
          0,
          1
         ],
         "title": {
          "text": "calories"
         }
        }
       }
      }
     },
     "metadata": {},
     "output_type": "display_data"
    }
   ],
   "source": [
    "# Grafico un boxplot para resumir datos\n",
    "fig = px.box(regular, y=\"calories\")\n",
    "fig.show()"
   ]
  },
  {
   "attachments": {},
   "cell_type": "markdown",
   "metadata": {},
   "source": [
    "### Este grafico nos muestra que la mediana de calorias de los productos de la clase regular esta en 345. El producto \"Veg Maharaja Mac\" sobrepasa ampliamente este valor con 832 calorias.\n"
   ]
  }
 ],
 "metadata": {
  "kernelspec": {
   "display_name": "mcdonalds",
   "language": "python",
   "name": "python3"
  },
  "language_info": {
   "codemirror_mode": {
    "name": "ipython",
    "version": 3
   },
   "file_extension": ".py",
   "mimetype": "text/x-python",
   "name": "python",
   "nbconvert_exporter": "python",
   "pygments_lexer": "ipython3",
   "version": "3.11.3"
  },
  "orig_nbformat": 4
 },
 "nbformat": 4,
 "nbformat_minor": 2
}
